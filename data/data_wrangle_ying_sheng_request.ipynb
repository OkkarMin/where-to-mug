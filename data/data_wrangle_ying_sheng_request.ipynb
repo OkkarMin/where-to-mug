{
 "metadata": {
  "language_info": {
   "codemirror_mode": {
    "name": "ipython",
    "version": 3
   },
   "file_extension": ".py",
   "mimetype": "text/x-python",
   "name": "python",
   "nbconvert_exporter": "python",
   "pygments_lexer": "ipython3",
   "version": "3.7.3"
  },
  "orig_nbformat": 4,
  "kernelspec": {
   "name": "python3",
   "display_name": "Python 3.7.3 64-bit ('venv': venv)"
  },
  "interpreter": {
   "hash": "703d570dd68cf397f674488554cfa5471a6393838f71499a54f76bbda58ea3cd"
  }
 },
 "nbformat": 4,
 "nbformat_minor": 2,
 "cells": [
  {
   "cell_type": "code",
   "execution_count": 1,
   "metadata": {},
   "outputs": [],
   "source": [
    "from pprint import pprint\n",
    "import pandas as pd\n",
    "from math import ceil\n",
    "df = pd.read_json('./2021_1_data.json')"
   ]
  },
  {
   "cell_type": "code",
   "execution_count": 31,
   "metadata": {},
   "outputs": [],
   "source": [
    "details = df.CZ3002['index']"
   ]
  },
  {
   "cell_type": "code",
   "execution_count": 43,
   "metadata": {
    "tags": []
   },
   "outputs": [],
   "source": [
    "result = []\n",
    "for course_code in df:\n",
    "    details = df[course_code]\n",
    "    for each_index in details['index']:\n",
    "        for each_type in each_index['details']:\n",
    "            if each_type['type'] == 'TUT':\n",
    "                result.append(each_type['location'])"
   ]
  },
  {
   "cell_type": "code",
   "execution_count": 51,
   "metadata": {},
   "outputs": [],
   "source": [
    "result_no_duplicate = list(dict.fromkeys(result))"
   ]
  },
  {
   "cell_type": "code",
   "execution_count": 55,
   "metadata": {},
   "outputs": [],
   "source": [
    "result_for_ys = []\n",
    "for room_name in result_no_duplicate:\n",
    "    result_for_ys.append({'location': room_name})"
   ]
  },
  {
   "cell_type": "code",
   "execution_count": 56,
   "metadata": {},
   "outputs": [],
   "source": [
    "import json\n",
    "\n",
    "with open('ying_sheng_requested_data.json', 'w') as outfile:\n",
    "    json.dump(result_for_ys, outfile, indent=2)"
   ]
  }
 ]
}