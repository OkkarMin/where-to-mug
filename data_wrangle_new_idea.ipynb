{
 "metadata": {
  "language_info": {
   "codemirror_mode": {
    "name": "ipython",
    "version": 3
   },
   "file_extension": ".py",
   "mimetype": "text/x-python",
   "name": "python",
   "nbconvert_exporter": "python",
   "pygments_lexer": "ipython3",
   "version": "3.7.3"
  },
  "orig_nbformat": 4,
  "kernelspec": {
   "name": "python3",
   "display_name": "Python 3.7.3 64-bit ('venv': venv)"
  },
  "interpreter": {
   "hash": "703d570dd68cf397f674488554cfa5471a6393838f71499a54f76bbda58ea3cd"
  }
 },
 "nbformat": 4,
 "nbformat_minor": 2,
 "cells": [
  {
   "cell_type": "code",
   "execution_count": 1,
   "metadata": {},
   "outputs": [],
   "source": [
    "from pprint import pprint\n",
    "import pandas as pd\n",
    "from math import ceil\n",
    "df = pd.read_json('./2021_1_data.json')"
   ]
  },
  {
   "cell_type": "code",
   "execution_count": 2,
   "metadata": {},
   "outputs": [],
   "source": [
    "def get_tut_details(index):\n",
    "    result = []\n",
    "    for i in index:\n",
    "        details = i['details']\n",
    "        for d in details:\n",
    "            day = d['day']\n",
    "            room = d['location']\n",
    "            time = d['time']['start']\n",
    "            duration = ceil(d['time']['duration'])\n",
    "\n",
    "            if d['type'] == 'TUT' and room != 'Online' and room != 'ONLINE' and room != '':\n",
    "                result.append({'room': room, 'day': day, 'start_time': time, 'duration': duration})\n",
    "    return result"
   ]
  },
  {
   "cell_type": "code",
   "execution_count": 3,
   "metadata": {},
   "outputs": [],
   "source": [
    "total_result = []\n",
    "for course_code in df:\n",
    "    total_result.extend(get_tut_details(df[course_code]['index']))"
   ]
  },
  {
   "cell_type": "code",
   "execution_count": 4,
   "metadata": {
    "tags": []
   },
   "outputs": [],
   "source": [
    "group_by_day = {'MON': {}, 'TUE': {}, 'WED': {}, 'THU': {}, 'FRI': {}}\n",
    "for data in total_result:\n",
    "    room = data['room']\n",
    "    day = data['day']\n",
    "    free_time_slots = [True for _ in range(14)]\n",
    "\n",
    "    group_by_day[day][room] = free_time_slots"
   ]
  },
  {
   "cell_type": "code",
   "execution_count": 7,
   "metadata": {},
   "outputs": [],
   "source": [
    "import json\n",
    "with open('room_datastructure.json', 'w') as outfile:\n",
    "    json.dump(group_by_day, outfile, indent=2)"
   ]
  },
  {
   "cell_type": "code",
   "execution_count": 6,
   "metadata": {
    "tags": []
   },
   "outputs": [],
   "source": [
    "start_time_to_idx = {'0830': 0, '0930': 1, '1030': 2, '1130': 3, '1230': 4, '1330': 5, '1430': 6, '1530': 7, '1630': 8, '1730': 9, '1830': 10, '1930': 11, '2030': 12, '2130': 13, '2230': 14}\n",
    "\n",
    "for data in total_result:\n",
    "    room, day, start_time, duration = data.values()\n",
    "    from_idx = start_time_to_idx[start_time]\n",
    "\n",
    "    for index, value in enumerate(group_by_day[day][room]):\n",
    "        for i in range(from_idx, from_idx+duration):\n",
    "            group_by_day[day][room][i] = False"
   ]
  },
  {
   "cell_type": "code",
   "execution_count": 8,
   "metadata": {},
   "outputs": [],
   "source": [
    "import json\n",
    "with open('room_occupancy.json', 'w') as outfile:\n",
    "    json.dump(group_by_day, outfile, indent=2)"
   ]
  }
 ]
}